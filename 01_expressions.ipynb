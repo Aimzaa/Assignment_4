{
  "nbformat": 4,
  "nbformat_minor": 0,
  "metadata": {
    "colab": {
      "provenance": [],
      "authorship_tag": "ABX9TyOx/M867uQmQJ9s0GjxVq69",
      "include_colab_link": true
    },
    "kernelspec": {
      "name": "python3",
      "display_name": "Python 3"
    },
    "language_info": {
      "name": "python"
    }
  },
  "cells": [
    {
      "cell_type": "markdown",
      "metadata": {
        "id": "view-in-github",
        "colab_type": "text"
      },
      "source": [
        "<a href=\"https://colab.research.google.com/github/Aimzaa/Assignment_4/blob/main/01_expressions.ipynb\" target=\"_parent\"><img src=\"https://colab.research.google.com/assets/colab-badge.svg\" alt=\"Open In Colab\"/></a>"
      ]
    },
    {
      "cell_type": "code",
      "execution_count": 3,
      "metadata": {
        "colab": {
          "base_uri": "https://localhost:8080/"
        },
        "id": "SiOpEO5CnNXk",
        "outputId": "2db24b7c-a039-4fda-9ebc-adfa0a7e5b73"
      },
      "outputs": [
        {
          "output_type": "stream",
          "name": "stdout",
          "text": [
            "01_dicesimulator\n",
            "die1 in main() start as: 10\n",
            "Total of two die: 8\n",
            "Total of two die: 6\n",
            "Total of two die: 8\n",
            "die1 in main() is: 10\n"
          ]
        }
      ],
      "source": [
        "import random\n",
        "print(\"01_dicesimulator\")\n",
        "\n",
        "def roll_dice():\n",
        "  die1:int = random.randint(1,6)\n",
        "  die2:int = random.randint(1,6)\n",
        "  total:int = die1 + die2\n",
        "  print(f'Total of two die: {total}')\n",
        "\n",
        "def main():\n",
        "  die1:int = 10\n",
        "  print(\"die1 in main() start as: \" + str(die1))\n",
        "  roll_dice()\n",
        "  roll_dice()\n",
        "  roll_dice()\n",
        "  print(\"die1 in main() is: \" + str(die1))\n",
        "\n",
        "if __name__ == '__main__':\n",
        "  main()"
      ]
    },
    {
      "cell_type": "code",
      "source": [
        "print(\"02_e=mc2\")\n",
        "\n",
        "def energy():\n",
        "  c:float = 299792458\n",
        "  m:float = float(input(\"Enter Kilos of mass: \"))\n",
        "  print(\"e = m*c^2\")\n",
        "  print(\"Mass = \" + str(m) + \" kg\")\n",
        "  print(\"C = \" + str(c) + \" m/s\")\n",
        "  e:float = m*c**2\n",
        "  print(\"Energy = \" + str(e) + \" joules\")\n",
        "\n",
        "if __name__ == '__main__':\n",
        "  energy()"
      ],
      "metadata": {
        "colab": {
          "base_uri": "https://localhost:8080/"
        },
        "id": "ezTKc_JIwIqZ",
        "outputId": "f7f5db96-e2ae-46e4-bfd7-00bcf3f3b44b"
      },
      "execution_count": 1,
      "outputs": [
        {
          "output_type": "stream",
          "name": "stdout",
          "text": [
            "02_e=mc2\n",
            "Enter Kilos of mass: 100\n",
            "e = m*c^2\n",
            "Mass = 100.0 kg\n",
            "C = 299792458 m/s\n",
            "Energy = 8.987551787368176e+18 joules\n"
          ]
        }
      ]
    },
    {
      "cell_type": "code",
      "source": [
        "print(\"03_feet_to_inches\")\n",
        "Inch: int = 12\n",
        "\n",
        "def foot():\n",
        "  feet:int = int(input(\"Enter your feet number and i wiil convert into inches. \"))\n",
        "  print(f'There are {Inch * feet} inches is {feet} feet.')\n",
        "\n",
        "if __name__ == '__main__':\n",
        "  foot()"
      ],
      "metadata": {
        "colab": {
          "base_uri": "https://localhost:8080/"
        },
        "id": "IHJWCtDHbx3Q",
        "outputId": "126a425e-bdc9-4f9e-aebc-ddaf3c94a3c4"
      },
      "execution_count": 2,
      "outputs": [
        {
          "output_type": "stream",
          "name": "stdout",
          "text": [
            "03_feet_to_inches\n",
            "Enter your feet number and i wiil convert into inches. 20\n",
            "There are 240 inches is 20 feet.\n"
          ]
        }
      ]
    },
    {
      "cell_type": "code",
      "source": [
        "import math\n",
        "print(\"04_pythagorean_theorem\")\n",
        "\n",
        "def hypotenuse():\n",
        "  ab:float = float(input(\"Enter the value of AB: \"))\n",
        "  ac:float = float(input(\"Enter the value of AC: \"))\n",
        "  bc:float = math.sqrt(ab**2 + ac**2)\n",
        "  print(f'The length of BC is = {bc}')\n",
        "\n",
        "if __name__ == '__main__':\n",
        "  hypotenuse()"
      ],
      "metadata": {
        "colab": {
          "base_uri": "https://localhost:8080/"
        },
        "id": "ygtW9T7Rd8TP",
        "outputId": "6da6387b-2650-431a-a588-474e449b28de"
      },
      "execution_count": 5,
      "outputs": [
        {
          "output_type": "stream",
          "name": "stdout",
          "text": [
            "04_pythagorean_theorem\n",
            "Enter the value of AB: 3\n",
            "Enter the value of AC: 4\n",
            "The length of BC is = 5.0\n"
          ]
        }
      ]
    },
    {
      "cell_type": "code",
      "source": [
        "print(\"05_remainder_division\")\n",
        "\n",
        "def remainder():\n",
        "  num1:int = int(input(\"Enter your integar to be divided: \"))\n",
        "  num2:int = int(input(\"Enter your integar to divide by: \"))\n",
        "  quotient:int = num1 // num2\n",
        "  remainder:int = num1 % num2\n",
        "  print(f'{num1} divided by {num2} is {quotient} with remainder {remainder}')\n",
        "\n",
        "if __name__ == '__main__':\n",
        "  remainder()\n"
      ],
      "metadata": {
        "colab": {
          "base_uri": "https://localhost:8080/"
        },
        "id": "nOEV32GOgzqE",
        "outputId": "4ebb6979-238a-47a0-e30d-48518a3f22a4"
      },
      "execution_count": 7,
      "outputs": [
        {
          "output_type": "stream",
          "name": "stdout",
          "text": [
            "05_remainder_division\n",
            "Enter your integar to be divided: 45\n",
            "Enter your integar to divide by: 7\n",
            "45 divided by 7 is 6 with remainder 3\n"
          ]
        }
      ]
    },
    {
      "cell_type": "code",
      "source": [
        "import random\n",
        "print(\"06_rolldice\")\n",
        "\n",
        "def dice():\n",
        "  die1:int = random.randint(1,6)\n",
        "  die2:int = random.randint(1,6)\n",
        "  total:int = int(die1 + die2)\n",
        "  print(\"First die: \" + str(die1))\n",
        "  print(\"Second die: \" + str(die2))\n",
        "  print(f'total of two dies :{total}' )\n",
        "\n",
        "if __name__ == '__main__':\n",
        "  dice()"
      ],
      "metadata": {
        "colab": {
          "base_uri": "https://localhost:8080/"
        },
        "id": "xUU3eQUKjuqg",
        "outputId": "835aa1ae-754a-43dc-ba38-4e537a746394"
      },
      "execution_count": 9,
      "outputs": [
        {
          "output_type": "stream",
          "name": "stdout",
          "text": [
            "06_rolldice\n",
            "First die: 6\n",
            "Second die: 3\n",
            "total of two dies :9\n"
          ]
        }
      ]
    },
    {
      "cell_type": "code",
      "source": [
        "print(\"06_seconds_in_year\")\n",
        "\n",
        "days_in_year:int = 365\n",
        "hours_per_day:int = 24\n",
        "minutes_for_hour:int = 60\n",
        "seconds_per_minute:int = 60\n",
        "\n",
        "def seconds():\n",
        "    seconds_in_year:int = days_in_year * hours_per_day * minutes_for_hour * seconds_per_minute\n",
        "    print(f'There are {seconds_in_year} seconds in a year!')\n",
        "\n",
        "if __name__ == '__main__':\n",
        " seconds()"
      ],
      "metadata": {
        "colab": {
          "base_uri": "https://localhost:8080/"
        },
        "id": "aYgXqQ0iy08f",
        "outputId": "8b79ea49-4c27-42ab-b3e2-427c32c870e9"
      },
      "execution_count": 10,
      "outputs": [
        {
          "output_type": "stream",
          "name": "stdout",
          "text": [
            "06_seconds_in_year\n",
            "There are 31536000 seconds in a year!\n"
          ]
        }
      ]
    },
    {
      "cell_type": "code",
      "source": [
        "print(\"07_tiny_mad_lib\")\n",
        "\n",
        "def mad_lib():\n",
        "  noun:str = str(input(\"Enter a noun: \"))\n",
        "  adjective:str = str(input(\"Enter an adjective: \"))\n",
        "  verb:str = str(input(\"Enter a verb: \"))\n",
        "  print(f'Do you {verb} your {adjective} {noun}?')\n",
        "\n",
        "if __name__ == '__main__':\n",
        "  mad_lib()"
      ],
      "metadata": {
        "colab": {
          "base_uri": "https://localhost:8080/"
        },
        "id": "FwVPh44Z0mit",
        "outputId": "cc0f9087-6c1b-4c50-bb03-a4fcb9e98124"
      },
      "execution_count": 15,
      "outputs": [
        {
          "output_type": "stream",
          "name": "stdout",
          "text": [
            "07_tiny_mad_lib\n",
            "Enter a noun: chocolate\n",
            "Enter an adjective: my\n",
            "Enter a verb: eat\n",
            "Do you eat your my chocolate?\n"
          ]
        }
      ]
    }
  ]
}