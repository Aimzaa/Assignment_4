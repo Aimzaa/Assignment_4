{
  "nbformat": 4,
  "nbformat_minor": 0,
  "metadata": {
    "colab": {
      "provenance": [],
      "authorship_tag": "ABX9TyOLrgSQO1EF2+MVM7NgL8bg",
      "include_colab_link": true
    },
    "kernelspec": {
      "name": "python3",
      "display_name": "Python 3"
    },
    "language_info": {
      "name": "python"
    }
  },
  "cells": [
    {
      "cell_type": "markdown",
      "metadata": {
        "id": "view-in-github",
        "colab_type": "text"
      },
      "source": [
        "<a href=\"https://colab.research.google.com/github/Aimzaa/Assignment_4/blob/main/00_intro_python.ipynb\" target=\"_parent\"><img src=\"https://colab.research.google.com/assets/colab-badge.svg\" alt=\"Open In Colab\"/></a>"
      ]
    },
    {
      "cell_type": "code",
      "execution_count": 4,
      "metadata": {
        "colab": {
          "base_uri": "https://localhost:8080/"
        },
        "id": "qjuaIjzKaTgp",
        "outputId": "37e039a7-11b1-42c5-bb17-ee24ece8cc8c"
      },
      "outputs": [
        {
          "output_type": "stream",
          "name": "stdout",
          "text": [
            "01_add_two_numbers\n",
            "This application for add two numbers\n",
            "Enter your first number5\n",
            "Enter your second number7\n",
            "The total sum of 5 and 7 is 12\n"
          ]
        }
      ],
      "source": [
        "print(\"01_add_two_numbers\")\n",
        "\n",
        "def add():\n",
        "  print(\"This application for add two numbers\")\n",
        "  first_number = int(input(\"Enter your first number \"))\n",
        "  second_number = int(input(\"Enter your second number \"))\n",
        "  total = int(first_number + second_number)\n",
        "  print(f'The total sum of {first_number} and {second_number} is {total}')\n",
        "\n",
        "if __name__ == '__main__':\n",
        "  add()"
      ]
    },
    {
      "cell_type": "code",
      "source": [
        "print(\"02_agreement_bot\")\n",
        "\n",
        "def bot():\n",
        "  animal = str(input(\"What there favourite animal is? \"))\n",
        "  print(f'My favorite animal is also {animal}!')\n",
        "\n",
        "if __name__ == '__main__':\n",
        "  bot()"
      ],
      "metadata": {
        "colab": {
          "base_uri": "https://localhost:8080/"
        },
        "id": "z0gK2Qgxyb9D",
        "outputId": "33a25c17-e500-4e64-fd6e-bee4cd9966b0"
      },
      "execution_count": 7,
      "outputs": [
        {
          "output_type": "stream",
          "name": "stdout",
          "text": [
            "02_agreement_bot\n",
            "What is your favourite animal?rabbit\n",
            "My favorite animal is also rabbit!\n"
          ]
        }
      ]
    },
    {
      "cell_type": "code",
      "source": [
        "print(\"03_fahrenheit_to_celsius\")\n",
        "\n",
        "def temp():\n",
        "  print(\"This application converts fahrenheit to celsius \")\n",
        "  fahrenheit_degree = float(input(\"Enter your fahrenheit degree \"))\n",
        "  celsius_degree = (fahrenheit_degree - 32) * 5.0/9.0\n",
        "  print(f'Temperature {fahrenheit_degree}F = {celsius_degree} C')\n",
        "\n",
        "if __name__ == '__main__':\n",
        "  temp()"
      ],
      "metadata": {
        "colab": {
          "base_uri": "https://localhost:8080/"
        },
        "id": "f140kDs80bVm",
        "outputId": "dbf6bc81-9371-4752-adf8-8196768355b9"
      },
      "execution_count": 3,
      "outputs": [
        {
          "output_type": "stream",
          "name": "stdout",
          "text": [
            "03_fahrenheit_to_celsius\n",
            "This application converts fahrenheit to celsius\n",
            "Enter your fahrenheit degree20\n",
            "Temperature 20.0 = -6.666666666666667\n"
          ]
        }
      ]
    },
    {
      "cell_type": "code",
      "source": [
        "print(\"04_how_old_are_they\")\n",
        "\n",
        "def add_ages():\n",
        "  Anthon:int = 21\n",
        "  Beth:int = Anthon + 6\n",
        "  Chen:int = Beth + 20\n",
        "  Drew:int = Chen + Anthon\n",
        "  Ethan:int = Chen\n",
        "\n",
        "  print(\"Anthon is \" + str(Anthon))\n",
        "  print(\"Beth is \" + str(Beth))\n",
        "  print(\"Chen is \" + str(Chen))\n",
        "  print(\"Drew is \" + str(Drew))\n",
        "  print(\"Ehtan is \" + str(Ethan))\n",
        "\n",
        "if __name__ == '__main__':\n",
        "  add_ages()"
      ],
      "metadata": {
        "colab": {
          "base_uri": "https://localhost:8080/"
        },
        "id": "QuGJtaR0UYU2",
        "outputId": "69e0fa80-5c11-4208-fba0-fc1bfc1af40e"
      },
      "execution_count": 1,
      "outputs": [
        {
          "output_type": "stream",
          "name": "stdout",
          "text": [
            "04_how_old_are_they\n",
            "Anthon is 21\n",
            "Beth is 27\n",
            "Chen is 47\n",
            "Drew is 68\n",
            "Ehtan is 47\n"
          ]
        }
      ]
    },
    {
      "cell_type": "code",
      "source": [
        "print(\"05_triangle_perimeter\")\n",
        "\n",
        "def triangle():\n",
        "  print(\"This code is about perimeter of triangle.\")\n",
        "  side1:float = float(input(\"Enter your first side no of triangle. \"))\n",
        "  side2:float = float(input(\"Enter your second side no of triangle. \"))\n",
        "  side3:float = float(input(\"Enter your third side no of triangle. \"))\n",
        "  total:float = float(side1 + side2 + side3)\n",
        "  print(f'The perimeter of triangle is {total}')\n",
        "\n",
        "if __name__ == '__main__':\n",
        "  triangle()\n",
        "\n"
      ],
      "metadata": {
        "colab": {
          "base_uri": "https://localhost:8080/"
        },
        "id": "O4CLifZIbxs7",
        "outputId": "5b1dfbf5-43af-45c6-de65-fc9b69ecda03"
      },
      "execution_count": 1,
      "outputs": [
        {
          "output_type": "stream",
          "name": "stdout",
          "text": [
            "05_triangle_perimeter\n",
            "This code is about some of triangle sides\n",
            "Enter your first side no of triangle. 3\n",
            "Enter your second side no of triangle. 4\n",
            "Enter your third side no of triangle. 5.5\n",
            "The perimeter of triangle is 12.5\n"
          ]
        }
      ]
    },
    {
      "cell_type": "code",
      "source": [
        "print(\"06_square_number\")\n",
        "\n",
        "def square_number():\n",
        "  print(\"This code is about square of given number\")\n",
        "  number:int = int(input(\"Enter your any number and i will give u square value. \"))\n",
        "  total:int = int(number * number)\n",
        "  print(f'The square of {number} is {total}')\n",
        "\n",
        "if __name__ == '__main__':\n",
        "  square_number()"
      ],
      "metadata": {
        "colab": {
          "base_uri": "https://localhost:8080/"
        },
        "id": "6IRy_jtdTcP9",
        "outputId": "3681aca5-faa2-47dc-dbca-21b1e9871c9d"
      },
      "execution_count": 2,
      "outputs": [
        {
          "output_type": "stream",
          "name": "stdout",
          "text": [
            "06_square_number\n",
            "This code is about square of given number\n",
            "Enter your any number and i will give u square value. 4\n",
            "The square of 4 is 16\n"
          ]
        }
      ]
    }
  ]
}