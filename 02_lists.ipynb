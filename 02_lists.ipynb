{
  "nbformat": 4,
  "nbformat_minor": 0,
  "metadata": {
    "colab": {
      "provenance": [],
      "authorship_tag": "ABX9TyMCKJ1IEIdOLop/2euBdZNQ",
      "include_colab_link": true
    },
    "kernelspec": {
      "name": "python3",
      "display_name": "Python 3"
    },
    "language_info": {
      "name": "python"
    }
  },
  "cells": [
    {
      "cell_type": "markdown",
      "metadata": {
        "id": "view-in-github",
        "colab_type": "text"
      },
      "source": [
        "<a href=\"https://colab.research.google.com/github/Aimzaa/Assignment_4/blob/main/02_lists.ipynb\" target=\"_parent\"><img src=\"https://colab.research.google.com/assets/colab-badge.svg\" alt=\"Open In Colab\"/></a>"
      ]
    },
    {
      "cell_type": "code",
      "execution_count": 6,
      "metadata": {
        "colab": {
          "base_uri": "https://localhost:8080/"
        },
        "id": "xyzjedBzs9sV",
        "outputId": "6988eeb4-8927-417d-9237-310ed3ac4ab2"
      },
      "outputs": [
        {
          "output_type": "stream",
          "name": "stdout",
          "text": [
            "01_add_many_number\n",
            "1\n"
          ]
        }
      ],
      "source": [
        "print(\"01_add_many_number\")\n",
        "\n",
        "def add_number(numbers)->int:\n",
        "  num:int = 0\n",
        "  for i in numbers:\n",
        "    num += i\n",
        "    return num\n",
        "\n",
        "def main():\n",
        "  numbers:list[int] = [1,2,3,4,5]\n",
        "  sum = add_number(numbers)\n",
        "  print(sum)\n",
        "\n",
        "if __name__ == \"__main__\":\n",
        "  main()"
      ]
    },
    {
      "cell_type": "code",
      "source": [
        "print(\"02_double_list\")\n",
        "\n",
        "def main():\n",
        "  numbers:list[int] = [1,2,3,4,5]\n",
        "  for i in range(len(numbers)):\n",
        "    index = numbers[i]\n",
        "    numbers[i] = index * 2\n",
        "    print(numbers)\n",
        "\n",
        "if __name__ == \"__main__\":\n",
        "  main()"
      ],
      "metadata": {
        "colab": {
          "base_uri": "https://localhost:8080/"
        },
        "id": "aXtNySkZvUfk",
        "outputId": "232fb93d-ab57-4693-9172-bd43533ab0cf"
      },
      "execution_count": 9,
      "outputs": [
        {
          "output_type": "stream",
          "name": "stdout",
          "text": [
            "02_double_list\n",
            "[2, 2, 3, 4, 5]\n",
            "[2, 4, 3, 4, 5]\n",
            "[2, 4, 6, 4, 5]\n",
            "[2, 4, 6, 8, 5]\n",
            "[2, 4, 6, 8, 10]\n"
          ]
        }
      ]
    },
    {
      "cell_type": "code",
      "source": [
        "print(\"04_flowing_with_data_structures\")\n",
        "\n",
        "def add_three_copies(list,data):\n",
        "  for i in range(3):\n",
        "    list.append(data)\n",
        "  return list\n",
        "\n",
        "def main():\n",
        "  message = input(\"Enter a message to copy. \")\n",
        "  list = []\n",
        "  print(\"Before list: \",list)\n",
        "  add_three_copies(list,message)\n",
        "  print(\"After list: \",list)\n",
        "\n",
        "if __name__ == \"__main__\":\n",
        "  main()\n"
      ],
      "metadata": {
        "colab": {
          "base_uri": "https://localhost:8080/"
        },
        "id": "JOOHLeYVxugy",
        "outputId": "bdf63fd0-93ec-483c-c42d-5e3006b0c8f3"
      },
      "execution_count": 10,
      "outputs": [
        {
          "output_type": "stream",
          "name": "stdout",
          "text": [
            "04_flowing_with_data_structures\n",
            "Enter a message to copy. hello\n",
            "Before list:  []\n",
            "After list:  ['hello', 'hello', 'hello']\n"
          ]
        }
      ]
    },
    {
      "cell_type": "code",
      "source": [
        "print(\"05_get_first_element\")\n",
        "\n",
        "def get_first_element(lst):\n",
        "  print(lst[0])\n",
        "\n",
        "def get_lst():\n",
        "  lst = []\n",
        "  element:str = input(\"Enter an element to add to the list. \")\n",
        "  while element !=  \"\":\n",
        "    lst.append(element)\n",
        "    element = input(\"Enter an element to add to the list. \")\n",
        "  return lst\n",
        "\n",
        "def main():\n",
        "  lst = get_lst()\n",
        "  get_first_element(lst)\n",
        "\n",
        "if __name__ == \"__main__\":\n",
        "  main()\n"
      ],
      "metadata": {
        "colab": {
          "base_uri": "https://localhost:8080/"
        },
        "id": "JontugJy0qFK",
        "outputId": "495baba0-13d0-48d4-e353-900c6d4e1a90"
      },
      "execution_count": 11,
      "outputs": [
        {
          "output_type": "stream",
          "name": "stdout",
          "text": [
            "05_get_first_element\n",
            "Enter an element to add to the list. a\n",
            "Enter an element to add to the list. b\n",
            "Enter an element to add to the list. c\n",
            "Enter an element to add to the list. d\n",
            "Enter an element to add to the list. e\n",
            "Enter an element to add to the list. f\n",
            "Enter an element to add to the list. \n",
            "a\n"
          ]
        }
      ]
    },
    {
      "cell_type": "code",
      "source": [
        "print(\"06_get_last_element\")\n",
        "\n",
        "def get_last_element(lst):\n",
        "  print(lst[-1])\n",
        "\n",
        "def get_lst():\n",
        "  lst = []\n",
        "  element:str = input(\"Enter an element to add to the list. \")\n",
        "  while element !=  \"\":\n",
        "    lst.append(element)\n",
        "    element = input(\"Enter an element to add to the list. \")\n",
        "  return lst\n",
        "\n",
        "def main():\n",
        "  lst = get_lst()\n",
        "  get_last_element(lst)\n",
        "\n",
        "if __name__ == \"__main__\":\n",
        "  main()"
      ],
      "metadata": {
        "colab": {
          "base_uri": "https://localhost:8080/"
        },
        "id": "7iUu5pa-680V",
        "outputId": "f348cb83-9908-408c-a75e-451fb51f7859"
      },
      "execution_count": 13,
      "outputs": [
        {
          "output_type": "stream",
          "name": "stdout",
          "text": [
            "06_get_last_element\n",
            "Enter an element to add to the list. a\n",
            "Enter an element to add to the list. b\n",
            "Enter an element to add to the list. c\n",
            "Enter an element to add to the list. \n",
            "c\n"
          ]
        }
      ]
    },
    {
      "cell_type": "code",
      "source": [
        "print(\"07_get_list\")\n",
        "\n",
        "def main():\n",
        "  lst = []\n",
        "  val = input(\"Enter a value to add to the list. \")\n",
        "  while val:\n",
        "    lst.append(val)\n",
        "    val = input(\"Enter a value to add to the list. \")\n",
        "  print(\"Here is the list: \",lst)\n",
        "\n",
        "if __name__ == \"__main__\":\n",
        "  main()"
      ],
      "metadata": {
        "colab": {
          "base_uri": "https://localhost:8080/"
        },
        "id": "J5yCdRLG_ByD",
        "outputId": "7d7234ea-6181-4c4d-eaed-311451ffd976"
      },
      "execution_count": 20,
      "outputs": [
        {
          "output_type": "stream",
          "name": "stdout",
          "text": [
            "07_get_list\n",
            "Enter a value to add to the list. 1\n",
            "Enter a value to add to the list. 2\n",
            "Enter a value to add to the list. 3\n",
            "Enter a value to add to the list. 4\n",
            "Enter a value to add to the list. 5\n",
            "Enter a value to add to the list. 6\n",
            "Enter a value to add to the list. \n",
            "Here is the list:  ['1', '2', '3', '4', '5', '6']\n"
          ]
        }
      ]
    },
    {
      "cell_type": "code",
      "source": [
        "print(\"08_shorten\")\n",
        "\n",
        "MAX_LENGTH:int = 3\n",
        "def shorten(lst):\n",
        "  while len(lst) > MAX_LENGTH:\n",
        "    last_element = lst.pop()\n",
        "    print(last_element)\n",
        "\n",
        "def get_lst():\n",
        "  lst = []\n",
        "  element = input(\"Enter an element to add to the list. \")\n",
        "  while element !=  \"\":\n",
        "    lst.append(element)\n",
        "    element = input(\"Enter an element to add to the list. \")\n",
        "  return lst\n",
        "\n",
        "def main():\n",
        "  lst = get_lst()\n",
        "  shorten(lst)\n",
        "\n",
        "if __name__ == \"__main__\":\n",
        "  main()\n"
      ],
      "metadata": {
        "colab": {
          "base_uri": "https://localhost:8080/"
        },
        "id": "wZZIHAgymOJG",
        "outputId": "761f4b19-cc7b-491c-fada-db55c2c5d814"
      },
      "execution_count": 7,
      "outputs": [
        {
          "output_type": "stream",
          "name": "stdout",
          "text": [
            "08_shorten\n",
            "Enter an element to add to the list. a\n",
            "Enter an element to add to the list. b\n",
            "Enter an element to add to the list. c\n",
            "Enter an element to add to the list. d\n",
            "Enter an element to add to the list. e\n",
            "Enter an element to add to the list. f\n",
            "Enter an element to add to the list. \n",
            "f\n",
            "e\n",
            "d\n"
          ]
        }
      ]
    }
  ]
}