{
  "nbformat": 4,
  "nbformat_minor": 0,
  "metadata": {
    "colab": {
      "provenance": [],
      "authorship_tag": "ABX9TyNoUlU4++NZBix5+o6ow0Z4",
      "include_colab_link": true
    },
    "kernelspec": {
      "name": "python3",
      "display_name": "Python 3"
    },
    "language_info": {
      "name": "python"
    }
  },
  "cells": [
    {
      "cell_type": "markdown",
      "metadata": {
        "id": "view-in-github",
        "colab_type": "text"
      },
      "source": [
        "<a href=\"https://colab.research.google.com/github/Aimzaa/Assignment_4/blob/main/03_if_statements.ipynb\" target=\"_parent\"><img src=\"https://colab.research.google.com/assets/colab-badge.svg\" alt=\"Open In Colab\"/></a>"
      ]
    },
    {
      "cell_type": "code",
      "source": [
        "print(\"01_print_events\")\n",
        "\n",
        "def even():\n",
        "  for i in range(40):\n",
        "   print(\"Here is 20 even numbers are: \", i * 2)\n",
        "\n",
        "if __name__ == \"__main__\":\n",
        "  even()"
      ],
      "metadata": {
        "colab": {
          "base_uri": "https://localhost:8080/"
        },
        "id": "tJdX7yS1w1of",
        "outputId": "24d75ea8-3913-4457-ba86-ed131899cb7e"
      },
      "execution_count": 3,
      "outputs": [
        {
          "output_type": "stream",
          "name": "stdout",
          "text": [
            "01_print_events\n",
            "Here is 20 even numbers are:  0\n",
            "Here is 20 even numbers are:  2\n",
            "Here is 20 even numbers are:  4\n",
            "Here is 20 even numbers are:  6\n",
            "Here is 20 even numbers are:  8\n",
            "Here is 20 even numbers are:  10\n",
            "Here is 20 even numbers are:  12\n",
            "Here is 20 even numbers are:  14\n",
            "Here is 20 even numbers are:  16\n",
            "Here is 20 even numbers are:  18\n",
            "Here is 20 even numbers are:  20\n",
            "Here is 20 even numbers are:  22\n",
            "Here is 20 even numbers are:  24\n",
            "Here is 20 even numbers are:  26\n",
            "Here is 20 even numbers are:  28\n",
            "Here is 20 even numbers are:  30\n",
            "Here is 20 even numbers are:  32\n",
            "Here is 20 even numbers are:  34\n",
            "Here is 20 even numbers are:  36\n",
            "Here is 20 even numbers are:  38\n",
            "Here is 20 even numbers are:  40\n",
            "Here is 20 even numbers are:  42\n",
            "Here is 20 even numbers are:  44\n",
            "Here is 20 even numbers are:  46\n",
            "Here is 20 even numbers are:  48\n",
            "Here is 20 even numbers are:  50\n",
            "Here is 20 even numbers are:  52\n",
            "Here is 20 even numbers are:  54\n",
            "Here is 20 even numbers are:  56\n",
            "Here is 20 even numbers are:  58\n",
            "Here is 20 even numbers are:  60\n",
            "Here is 20 even numbers are:  62\n",
            "Here is 20 even numbers are:  64\n",
            "Here is 20 even numbers are:  66\n",
            "Here is 20 even numbers are:  68\n",
            "Here is 20 even numbers are:  70\n",
            "Here is 20 even numbers are:  72\n",
            "Here is 20 even numbers are:  74\n",
            "Here is 20 even numbers are:  76\n",
            "Here is 20 even numbers are:  78\n"
          ]
        }
      ]
    },
    {
      "cell_type": "code",
      "source": [
        "print(\"02_international_voting_age\")\n",
        "\n",
        "Peturksbouipo:int = 16\n",
        "Stanlau:int = 25\n",
        "Mayengua:int = 48\n",
        "\n",
        "def main():\n",
        "  age:int = int(input(\"How old are you?\"))\n",
        "  if age >= Peturksbouipo:\n",
        "    print(f\"Your age is {age}. you are eligible to vote in Peturksbouipo!\")\n",
        "  else:\n",
        "    print(f\"Your age is {age}. you are not eligible to vote in Peturksbouipo!\")\n",
        "\n",
        "\n",
        "  if age >= Stanlau:\n",
        "    print(f\"Your age is {age}. you are eligible to vote in Stanlau!\")\n",
        "  else:\n",
        "    print(f\"Your age is {age}. you are not eligible to vote in Stanlau!\")\n",
        "\n",
        "\n",
        "  if age >= Mayengua:\n",
        "    print(f\"Your age is {age}. you are eligible to vote in Mayengua!\")\n",
        "  else:\n",
        "    print(f\"Your age is {age}. you are not eligible to vote in Mayengua!\")\n",
        "\n",
        "\n",
        "if __name__ == \"__main__\":\n",
        "  main()\n",
        "\n",
        ""
      ],
      "metadata": {
        "colab": {
          "base_uri": "https://localhost:8080/"
        },
        "id": "YChOCBSGukrq",
        "outputId": "5ccd4420-dcf9-4557-e312-7d61afa4bb9f"
      },
      "execution_count": 6,
      "outputs": [
        {
          "output_type": "stream",
          "name": "stdout",
          "text": [
            "02_international_voting_age\n",
            "How old are you?16\n",
            "Your age is 16. you are eligible to vote in Peturksbouipo!\n",
            "Your age is 16. you are not eligible to vote in Stanlau!\n",
            "Your age is 16. you are not eligible to vote in Mayengua!\n"
          ]
        }
      ]
    },
    {
      "cell_type": "code",
      "source": [
        "print(\"03_leap_year\")\n",
        "\n",
        "def leap_year():\n",
        "  year:int = int(input(\"Enter a year: \"))\n",
        "\n",
        "  if year % 4 == 0:\n",
        "    if year % 100 == 0:\n",
        "      if year % 400 == 0:\n",
        "        print(f\"{year} is a leap year.\")\n",
        "      else:\n",
        "        print(f\"{year} is not a leap year.\")\n",
        "    else:\n",
        "      print(f\"{year} is a leap year.\")\n",
        "  else:\n",
        "    print(f\"{year} is not a leap year.\")\n",
        "\n",
        "if __name__ == \"__main__\":\n",
        "  leap_year()"
      ],
      "metadata": {
        "colab": {
          "base_uri": "https://localhost:8080/"
        },
        "id": "XyZziRYOyy9j",
        "outputId": "ba84596d-74dc-4eb1-dbbe-35f819f1b38f"
      },
      "execution_count": 7,
      "outputs": [
        {
          "output_type": "stream",
          "name": "stdout",
          "text": [
            "03_leap_year\n",
            "Enter a year: 2035\n",
            "2035 is not a leap year.\n"
          ]
        }
      ]
    },
    {
      "cell_type": "code",
      "source": [
        "print(\"04_tall_enough_to_ride\")\n",
        "\n",
        "min_height:int = 50\n",
        "def main():\n",
        "  user:int = int(input(\"How tall are you?\"))\n",
        "  if user >= min_height:\n",
        "    print(\"You are tall enough to ride!\")\n",
        "  else:\n",
        "    print(\"You are not tall enough to ride!\")\n",
        "\n",
        "if __name__ == \"__main__\":\n",
        "  main()"
      ],
      "metadata": {
        "colab": {
          "base_uri": "https://localhost:8080/"
        },
        "id": "ebbO06fw01gg",
        "outputId": "ddad46f8-2763-4b28-ca2b-90e0fb363286"
      },
      "execution_count": 8,
      "outputs": [
        {
          "output_type": "stream",
          "name": "stdout",
          "text": [
            "04_tall_enough_to_ride\n",
            "How tall are you?40\n",
            "You are not tall enough to ride!\n"
          ]
        }
      ]
    },
    {
      "cell_type": "code",
      "source": [
        "print(\"05_random_numbers\")\n",
        "\n",
        "import random\n",
        "\n",
        "def main():\n",
        "  for i in range(10):\n",
        "    num:list[int] = random.randint(1,100)\n",
        "    print(num)\n",
        "\n",
        "if __name__ == \"__main__\":\n",
        "  main()"
      ],
      "metadata": {
        "colab": {
          "base_uri": "https://localhost:8080/"
        },
        "id": "e7LsZgeT2Nao",
        "outputId": "e372e503-1148-483e-b070-37da2de590fd"
      },
      "execution_count": 1,
      "outputs": [
        {
          "output_type": "stream",
          "name": "stdout",
          "text": [
            "05_random_numbers\n",
            "31\n",
            "9\n",
            "63\n",
            "68\n",
            "75\n",
            "8\n",
            "85\n",
            "7\n",
            "38\n",
            "12\n"
          ]
        }
      ]
    }
  ]
}