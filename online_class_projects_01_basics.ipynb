{
  "nbformat": 4,
  "nbformat_minor": 0,
  "metadata": {
    "colab": {
      "provenance": [],
      "authorship_tag": "ABX9TyOBJyfZt8FxwEtVoec3Nx9c",
      "include_colab_link": true
    },
    "kernelspec": {
      "name": "python3",
      "display_name": "Python 3"
    },
    "language_info": {
      "name": "python"
    }
  },
  "cells": [
    {
      "cell_type": "markdown",
      "metadata": {
        "id": "view-in-github",
        "colab_type": "text"
      },
      "source": [
        "<a href=\"https://colab.research.google.com/github/Aimzaa/Assignment_4/blob/main/online_class_projects_01_basics.ipynb\" target=\"_parent\"><img src=\"https://colab.research.google.com/assets/colab-badge.svg\" alt=\"Open In Colab\"/></a>"
      ]
    },
    {
      "cell_type": "code",
      "execution_count": 3,
      "metadata": {
        "colab": {
          "base_uri": "https://localhost:8080/"
        },
        "id": "UvXNIPSmOevq",
        "outputId": "45cc0cad-dd14-4e76-e461-aed46cfda741"
      },
      "outputs": [
        {
          "output_type": "stream",
          "name": "stdout",
          "text": [
            "00_joke_bot\n",
            "What do you want? story\n",
            "Sorry, I don't know what that is.\n"
          ]
        }
      ],
      "source": [
        "print(\"00_joke_bot\")\n",
        "\n",
        "PROMPT: str = \"What do you want? \"\n",
        "JOKE: str = \"Why don't scientists trust atoms? Because they make up everything! 😆\"\n",
        "SORRY: str = \"Sorry, I don't know what that is.\"\n",
        "\n",
        "def main():\n",
        "  user_input = input(PROMPT)\n",
        "  user_input = user_input.strip().lower()\n",
        "  if user_input == \"joke\":\n",
        "    print(JOKE)\n",
        "  else:\n",
        "    print(SORRY)\n",
        "\n",
        "if __name__ == \"__main__\":\n",
        "  main()"
      ]
    },
    {
      "cell_type": "code",
      "source": [
        "print(\"01_double_it\")\n",
        "\n",
        "def main():\n",
        "  user_value = int(input(\"Enter a number: \"))\n",
        "  while user_value < 100:\n",
        "    user_value = user_value * 2\n",
        "    print(user_value)\n",
        "\n",
        "if __name__ == \"__main__\":\n",
        "  main()"
      ],
      "metadata": {
        "colab": {
          "base_uri": "https://localhost:8080/"
        },
        "id": "g0FjHojrW4Vg",
        "outputId": "489be1ba-5164-4d6f-932f-3f767ddc4323"
      },
      "execution_count": 4,
      "outputs": [
        {
          "output_type": "stream",
          "name": "stdout",
          "text": [
            "01_double_it\n",
            "Enter a number: 2\n",
            "4\n",
            "8\n",
            "16\n",
            "32\n",
            "64\n",
            "128\n"
          ]
        }
      ]
    },
    {
      "cell_type": "code",
      "source": [
        "print(\"02_liftoff\")\n",
        "\n",
        "def main():\n",
        "  for i in range(10,0,-1):\n",
        "    print(i,end = \" \")\n",
        "  print(\"Liftoff🚀\")\n",
        "\n",
        "if __name__ == \"__main__\":\n",
        "  main()"
      ],
      "metadata": {
        "colab": {
          "base_uri": "https://localhost:8080/"
        },
        "id": "GhF4jSlkXnTA",
        "outputId": "7fc8baa5-808e-4846-832b-419c5891078c"
      },
      "execution_count": 5,
      "outputs": [
        {
          "output_type": "stream",
          "name": "stdout",
          "text": [
            "02_liftoff\n",
            "10 9 8 7 6 5 4 3 2 1 Liftoff🚀\n"
          ]
        }
      ]
    },
    {
      "cell_type": "code",
      "source": [
        "import random\n",
        "\n",
        "print(\"03_guess_my_number\")\n",
        "\n",
        "def main():\n",
        "  secret_number = random.randint(1, 100)\n",
        "  print(\"I'm thinking of a number between 1 and 100........ \")\n",
        "\n",
        "  guess = int(input(\"Enter a guess: \"))\n",
        "\n",
        "  while guess != secret_number:\n",
        "    if guess > secret_number:\n",
        "      print(\"Your guess is too high, try again.\")\n",
        "    else:\n",
        "      print(\"Your guess is too low, try again.\")\n",
        "    guess = int(input(\"Enter a guess: \"))\n",
        "\n",
        "  print(\"Congratulations! You guessed the correct number!\")\n",
        "\n",
        "\n",
        "if __name__ == \"__main__\":\n",
        "  main()"
      ],
      "metadata": {
        "colab": {
          "base_uri": "https://localhost:8080/"
        },
        "id": "8XiGmoFMXyUt",
        "outputId": "ff1629cf-b951-4612-c7db-17addeb46dab"
      },
      "execution_count": 6,
      "outputs": [
        {
          "output_type": "stream",
          "name": "stdout",
          "text": [
            "03_guess_my_number\n",
            "I'm thinking of a number between 1 and 100........ \n",
            "Enter a guess: 5\n",
            "Your guess is too low, try again.\n",
            "Enter a guess: 70\n",
            "Your guess is too high, try again.\n",
            "Enter a guess: 60\n",
            "Your guess is too high, try again.\n",
            "Enter a guess: 50\n",
            "Your guess is too high, try again.\n",
            "Enter a guess: 40\n",
            "Your guess is too high, try again.\n",
            "Enter a guess: 20\n",
            "Your guess is too low, try again.\n",
            "Enter a guess: 25\n",
            "Your guess is too high, try again.\n",
            "Enter a guess: 21\n",
            "Your guess is too low, try again.\n",
            "Enter a guess: 22\n",
            "Your guess is too low, try again.\n",
            "Enter a guess: 23\n",
            "Congratulations! You guessed the correct number!\n"
          ]
        }
      ]
    },
    {
      "cell_type": "code",
      "source": [
        "print(\"04_random_numbers\")\n",
        "\n",
        "import random\n",
        "\n",
        "def main():\n",
        "  for i in range(10):\n",
        "    num:list[int] = random.randint(1,100)\n",
        "    print(num)\n",
        "\n",
        "if __name__ == \"__main__\":\n",
        "  main()"
      ],
      "metadata": {
        "colab": {
          "base_uri": "https://localhost:8080/"
        },
        "id": "qI9QE81XYVxy",
        "outputId": "69ef8565-1201-4b3e-92eb-cd0d33f53860"
      },
      "execution_count": 7,
      "outputs": [
        {
          "output_type": "stream",
          "name": "stdout",
          "text": [
            "04_random_numbers\n",
            "96\n",
            "3\n",
            "84\n",
            "99\n",
            "1\n",
            "79\n",
            "36\n",
            "96\n",
            "91\n",
            "19\n"
          ]
        }
      ]
    }
  ]
}